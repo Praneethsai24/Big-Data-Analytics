{
 "cells": [
  {
   "cell_type": "code",
   "execution_count": 21,
   "id": "f013c5d8",
   "metadata": {},
   "outputs": [],
   "source": [
    "import seaborn as sns\n",
    "import pandas as pd\n",
    "import numpy as np\n",
    "import matplotlib.pyplot as plt\n",
    "from sklearn.model_selection import train_test_split\n",
    "from sklearn.preprocessing import StandardScaler\n",
    "from sklearn.linear_model import LogisticRegression\n",
    "from sklearn.metrics import accuracy_score, precision_score, recall_score, f1_score"
   ]
  },
  {
   "cell_type": "code",
   "execution_count": 22,
   "id": "19d6c4b0",
   "metadata": {},
   "outputs": [],
   "source": [
    "data = pd.read_csv('diabetes (1).csv')"
   ]
  },
  {
   "cell_type": "code",
   "execution_count": 23,
   "id": "e23eea59",
   "metadata": {},
   "outputs": [],
   "source": [
    "x = data.iloc[:,[4,7]].values\n",
    "y = data.iloc[:,8]"
   ]
  },
  {
   "cell_type": "code",
   "execution_count": 24,
   "id": "05716f68",
   "metadata": {},
   "outputs": [],
   "source": [
    "xtrain, xtest, ytrain, ytest = train_test_split(x, y, test_size=0.25, random_state=0)\n",
    "sc_x=StandardScaler()\n",
    "xtrain = sc_x.fit_transform(xtrain)\n",
    "xtest = sc_x.transform(xtest)\n"
   ]
  },
  {
   "cell_type": "code",
   "execution_count": 25,
   "id": "7cdc0b22",
   "metadata": {},
   "outputs": [
    {
     "name": "stdout",
     "output_type": "stream",
     "text": [
      "[[ 0.28085796 -0.67204882]\n",
      " [ 1.35876151  0.40496103]\n",
      " [-0.81313372  0.20914106]\n",
      " [-0.43506306 -0.86786879]\n",
      " [-0.99010296 -0.47622884]\n",
      " [-0.57181202  0.40496103]\n",
      " [ 0.07171249  1.77570083]\n",
      " [-0.3546225  -0.57413883]\n",
      " [-0.99010296 -0.67204882]\n",
      " [-0.3546225  -0.28040887]]\n",
      "Accuracy: 0.7857142857142857\n",
      "Precision: 0.8333333333333334\n",
      "Recall: 0.45454545454545453\n",
      "F1: 0.5882352941176471\n"
     ]
    }
   ],
   "source": [
    "print(xtrain[0:10,:])\n",
    "classifier = LogisticRegression(random_state=0)\n",
    "classifier.fit(xtrain,ytrain)\n",
    "y_pred = classifier.predict(xtest)\n",
    "\n",
    "accuracy = accuracy_score(ytest,y_pred)\n",
    "precision = precision_score(ytest,y_pred)\n",
    "recall = recall_score(ytest,y_pred)\n",
    "f1 = f1_score(ytest, y_pred)\n",
    "#classi = classification_report(ytest,y_pred)\n",
    "print(\"Accuracy:\",accuracy)\n",
    "#print(classi)\\\n",
    "print(\"Precision:\",precision)\n",
    "print(\"Recall:\", recall)\n",
    "print(\"F1:\",f1)"
   ]
  },
  {
   "cell_type": "code",
   "execution_count": 13,
   "id": "3ad4b09b",
   "metadata": {},
   "outputs": [
    {
     "name": "stdout",
     "output_type": "stream",
     "text": [
      "accuracy: 0.7857142857142857\n"
     ]
    }
   ],
   "source": [
    "print(\"accuracy:\",accuracy)"
   ]
  },
  {
   "cell_type": "code",
   "execution_count": null,
   "id": "7290c618",
   "metadata": {},
   "outputs": [],
   "source": []
  }
 ],
 "metadata": {
  "kernelspec": {
   "display_name": "Python 3 (ipykernel)",
   "language": "python",
   "name": "python3"
  },
  "language_info": {
   "codemirror_mode": {
    "name": "ipython",
    "version": 3
   },
   "file_extension": ".py",
   "mimetype": "text/x-python",
   "name": "python",
   "nbconvert_exporter": "python",
   "pygments_lexer": "ipython3",
   "version": "3.10.1"
  }
 },
 "nbformat": 4,
 "nbformat_minor": 5
}
